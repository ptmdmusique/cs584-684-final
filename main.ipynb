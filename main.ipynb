{
 "cells": [
  {
   "cell_type": "code",
   "execution_count": 131,
   "metadata": {},
   "outputs": [],
   "source": [
    "import random\n",
    "\n",
    "def generate_leaf_scores(n):\n",
    "    if n % 2 != 0:\n",
    "        raise ValueError(\"Number of leaf nodes must be even for a balanced binary tree\")\n",
    "\n",
    "    leaf_scores = [random.randint(0, 100) for _ in range(n)]\n",
    "    return leaf_scores\n",
    "\n",
    "# Generate leaf scores with k symmetry\n",
    "def generate_leaf_scores_with_symmetry(n, k):\n",
    "    if n % 2 != 0:\n",
    "        raise ValueError(\"Number of leaf nodes must be even for a balanced binary tree\")\n",
    "\n",
    "    if k < 0 or k > n // 2:\n",
    "        raise ValueError(\"Invalid symmetry value\")\n",
    "\n",
    "    leaf_scores = []\n",
    "\n",
    "    for _ in range(n - k * 2):\n",
    "        score = random.randint(0, 100)\n",
    "        leaf_scores.append(score)\n",
    "\n",
    "    for _ in range(k):\n",
    "        score = random.randint(0, 100)\n",
    "        leaf_scores.append(score)\n",
    "        leaf_scores.append(score)\n",
    "\n",
    "    random.shuffle(leaf_scores)\n",
    "    return leaf_scores"
   ]
  },
  {
   "cell_type": "code",
   "execution_count": 132,
   "metadata": {},
   "outputs": [],
   "source": [
    "class TreeNode:\n",
    "    def __init__(self, score):\n",
    "        self.score = score\n",
    "        self.active = True"
   ]
  },
  {
   "cell_type": "code",
   "execution_count": 133,
   "metadata": {},
   "outputs": [],
   "source": [
    "# Construct the tree (in array form) from the leaf scores, initialize the nodes with -1 as value\n",
    "def construct_tree_from_leaf_scores(leaf_scores: list[int]) -> list[TreeNode]:\n",
    "    n = len(leaf_scores)\n",
    "    # tree = [-1] * (2 * n - 1)\n",
    "    # tree[n - 1:] = leaf_scores\n",
    "    tree = [TreeNode(-1) for _ in range(2 * n - 1)]\n",
    "    for i in range(n):\n",
    "        tree[n - 1 + i].score = leaf_scores[i]\n",
    "    return tree"
   ]
  },
  {
   "cell_type": "code",
   "execution_count": 134,
   "metadata": {},
   "outputs": [],
   "source": [
    "from treelib import Tree\n",
    "\n",
    "def visualize_tree(tree_nodes: list[TreeNode]):\n",
    "    # Visualize the tree in this pattern, use index as node id\n",
    "    tree = Tree()\n",
    "    n = len(tree_nodes)\n",
    "\n",
    "    # Create nodes\n",
    "    for i in range(n):\n",
    "        parent_node_id = (i - 1) // 2\n",
    "        tree_node = tree_nodes[i]\n",
    "        label = f\"{tree_node.score} ({'A' if tree_node.active else 'I'})\"\n",
    "        # print(parent_node_id)\n",
    "        tree.create_node(label, i, parent=parent_node_id if parent_node_id >= 0 else None)\n",
    "\n",
    "    print(tree.show(stdout=False))"
   ]
  },
  {
   "cell_type": "code",
   "execution_count": 135,
   "metadata": {},
   "outputs": [],
   "source": [
    "def deactivate_symmetry(tree: list[TreeNode]):\n",
    "    # Iterate from leaf nodes, if any nodes repeat, deactivate the node (the original node is not deactivated)\n",
    "    # If both nodes are deactivated, then also deactivate the parent node\n",
    "    # ! This will modify the tree in place\n",
    "\n",
    "    appearance_lookup_map: dict[int, bool] = {}\n",
    "\n",
    "    n = len(tree)\n",
    "    for i in range(n - 1, -1, -1):\n",
    "        # First check if the node score is already present in the map\n",
    "        score = tree[i].score\n",
    "\n",
    "        if score != -1:\n",
    "            if appearance_lookup_map.get(score, False):\n",
    "                tree[i].active = False\n",
    "            appearance_lookup_map[score] = True\n",
    "\n",
    "        # If both children are deactivated, then also deactivate the parent node\n",
    "        left_child = i * 2 + 1\n",
    "        right_child = i * 2 + 2\n",
    "        if left_child < n and right_child < n:\n",
    "            if not tree[left_child].active and not tree[right_child].active:\n",
    "                tree[i].active = False\n"
   ]
  },
  {
   "cell_type": "code",
   "execution_count": 136,
   "metadata": {},
   "outputs": [
    {
     "ename": "ValueError",
     "evalue": "Invalid symmetry value",
     "output_type": "error",
     "traceback": [
      "\u001b[1;31m---------------------------------------------------------------------------\u001b[0m",
      "\u001b[1;31mValueError\u001b[0m                                Traceback (most recent call last)",
      "Cell \u001b[1;32mIn[136], line 1\u001b[0m\n\u001b[1;32m----> 1\u001b[0m leaf_scores \u001b[39m=\u001b[39m generate_leaf_scores_with_symmetry(\u001b[39m4\u001b[39;49m, \u001b[39m3\u001b[39;49m)\n\u001b[0;32m      2\u001b[0m \u001b[39m# leaf_scores = generate_leaf_scores(8)\u001b[39;00m\n\u001b[0;32m      3\u001b[0m \u001b[39mprint\u001b[39m(leaf_scores)\n",
      "Cell \u001b[1;32mIn[131], line 16\u001b[0m, in \u001b[0;36mgenerate_leaf_scores_with_symmetry\u001b[1;34m(n, k)\u001b[0m\n\u001b[0;32m     13\u001b[0m     \u001b[39mraise\u001b[39;00m \u001b[39mValueError\u001b[39;00m(\u001b[39m\"\u001b[39m\u001b[39mNumber of leaf nodes must be even for a balanced binary tree\u001b[39m\u001b[39m\"\u001b[39m)\n\u001b[0;32m     15\u001b[0m \u001b[39mif\u001b[39;00m k \u001b[39m<\u001b[39m \u001b[39m0\u001b[39m \u001b[39mor\u001b[39;00m k \u001b[39m>\u001b[39m n \u001b[39m/\u001b[39m\u001b[39m/\u001b[39m \u001b[39m2\u001b[39m:\n\u001b[1;32m---> 16\u001b[0m     \u001b[39mraise\u001b[39;00m \u001b[39mValueError\u001b[39;00m(\u001b[39m\"\u001b[39m\u001b[39mInvalid symmetry value\u001b[39m\u001b[39m\"\u001b[39m)\n\u001b[0;32m     18\u001b[0m leaf_scores \u001b[39m=\u001b[39m []\n\u001b[0;32m     20\u001b[0m \u001b[39mfor\u001b[39;00m _ \u001b[39min\u001b[39;00m \u001b[39mrange\u001b[39m(n \u001b[39m-\u001b[39m k \u001b[39m*\u001b[39m \u001b[39m2\u001b[39m):\n",
      "\u001b[1;31mValueError\u001b[0m: Invalid symmetry value"
     ]
    }
   ],
   "source": [
    "leaf_scores = generate_leaf_scores_with_symmetry(4, 2)\n",
    "# leaf_scores = generate_leaf_scores(8)\n",
    "print(leaf_scores)\n",
    "full_tree = construct_tree_from_leaf_scores(leaf_scores)\n",
    "\n",
    "visualize_tree(full_tree)"
   ]
  },
  {
   "cell_type": "code",
   "execution_count": null,
   "metadata": {},
   "outputs": [
    {
     "name": "stdout",
     "output_type": "stream",
     "text": [
      "-1 (A)\n",
      "├── -1 (A)\n",
      "│   ├── 46 (A)\n",
      "│   └── 64 (A)\n",
      "└── -1 (I)\n",
      "    ├── 46 (I)\n",
      "    └── 64 (I)\n",
      "\n"
     ]
    }
   ],
   "source": [
    "deactivate_symmetry(full_tree)\n",
    "visualize_tree(full_tree)"
   ]
  }
 ],
 "metadata": {
  "kernelspec": {
   "display_name": "Python 3",
   "language": "python",
   "name": "python3"
  },
  "language_info": {
   "codemirror_mode": {
    "name": "ipython",
    "version": 3
   },
   "file_extension": ".py",
   "mimetype": "text/x-python",
   "name": "python",
   "nbconvert_exporter": "python",
   "pygments_lexer": "ipython3",
   "version": "3.11.4"
  },
  "orig_nbformat": 4
 },
 "nbformat": 4,
 "nbformat_minor": 2
}
