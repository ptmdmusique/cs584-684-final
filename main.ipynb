{
 "cells": [
  {
   "cell_type": "code",
   "execution_count": 1,
   "metadata": {},
   "outputs": [],
   "source": [
    "import random\n",
    "\n",
    "def generate_leaf_scores(n):\n",
    "    if n % 2 != 0:\n",
    "        raise ValueError(\"Number of leaf nodes must be even for a balanced binary tree\")\n",
    "\n",
    "    leaf_scores = [random.randint(0, 100) for _ in range(n)]\n",
    "    return leaf_scores\n",
    "\n",
    "# Generate leaf scores with k symmetry\n",
    "def generate_leaf_scores_with_symmetry(n, k):\n",
    "    if n % 2 != 0:\n",
    "        raise ValueError(\"Number of leaf nodes must be even for a balanced binary tree\")\n",
    "\n",
    "    if k < 0 or k > n // 2:\n",
    "        raise ValueError(\"Invalid symmetry value\")\n",
    "\n",
    "    leaf_scores = []\n",
    "\n",
    "    for _ in range(n - k * 2):\n",
    "        score = random.randint(0, 100)\n",
    "        leaf_scores.append(score)\n",
    "\n",
    "    for _ in range(k):\n",
    "        score = random.randint(0, 100)\n",
    "        leaf_scores.append(score)\n",
    "        leaf_scores.append(score)\n",
    "\n",
    "    random.shuffle(leaf_scores)\n",
    "    return leaf_scores"
   ]
  },
  {
   "cell_type": "code",
   "execution_count": 2,
   "metadata": {},
   "outputs": [],
   "source": [
    "# Construct the tree (in array form) from the leaf scores, initialize the nodes with -1 as value\n",
    "def construct_tree_from_leaf_scores(leaf_scores):\n",
    "    n = len(leaf_scores)\n",
    "    tree = [-1] * (2 * n - 1)\n",
    "    tree[n - 1:] = leaf_scores\n",
    "    return tree"
   ]
  },
  {
   "cell_type": "code",
   "execution_count": 3,
   "metadata": {},
   "outputs": [],
   "source": [
    "from treelib import Node, Tree\n",
    "\n",
    "def visualize_tree(scores):\n",
    "    # Visualize the tree in this pattern, use index as node id\n",
    "    tree = Tree()\n",
    "    n = len(scores)\n",
    "\n",
    "    # Create nodes\n",
    "    for i in range(n):\n",
    "        parent_node_id = (i - 1) // 2\n",
    "        # print(parent_node_id)\n",
    "        tree.create_node(str(scores[i]), i, parent=parent_node_id if parent_node_id >= 0 else None)\n",
    "\n",
    "    print(tree.show(stdout=False))"
   ]
  },
  {
   "cell_type": "code",
   "execution_count": 4,
   "metadata": {},
   "outputs": [
    {
     "name": "stdout",
     "output_type": "stream",
     "text": [
      "[39, 47, 58, 63]\n",
      "-1\n",
      "├── -1\n",
      "│   ├── 39\n",
      "│   └── 47\n",
      "└── -1\n",
      "    ├── 58\n",
      "    └── 63\n",
      "\n"
     ]
    }
   ],
   "source": [
    "leaf_scores = generate_leaf_scores(4)\n",
    "print(leaf_scores)\n",
    "full_tree = construct_tree_from_leaf_scores(leaf_scores)\n",
    "\n",
    "visualize_tree(full_tree)"
   ]
  }
 ],
 "metadata": {
  "kernelspec": {
   "display_name": "Python 3",
   "language": "python",
   "name": "python3"
  },
  "language_info": {
   "codemirror_mode": {
    "name": "ipython",
    "version": 3
   },
   "file_extension": ".py",
   "mimetype": "text/x-python",
   "name": "python",
   "nbconvert_exporter": "python",
   "pygments_lexer": "ipython3",
   "version": "3.11.4"
  },
  "orig_nbformat": 4
 },
 "nbformat": 4,
 "nbformat_minor": 2
}
